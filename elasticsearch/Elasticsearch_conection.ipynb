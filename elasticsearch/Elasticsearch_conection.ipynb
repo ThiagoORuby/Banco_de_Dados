{
 "cells": [
  {
   "cell_type": "markdown",
   "id": "343a0947",
   "metadata": {},
   "source": [
    "## Trabalhando com Elasticsearch\n",
    "<hr>\n",
    "<br>\n",
    "by: Thiago Ribeiro, Diogo Tallys e José Endson\n",
    "\n",
    "Crie uma base de dados no SGBD escolhido na atividade anterior contendo um esquema simples e realize as seguintes ações.\n",
    "\n",
    "- Inserir ao menos 4 novas instâncias;\n",
    "\n",
    "- Atualizar 2 instâncias;\n",
    "\n",
    "- Realizar 3 consultas diferentes;\n",
    "\n",
    "- Remover 1 instância."
   ]
  },
  {
   "cell_type": "code",
   "execution_count": 3,
   "id": "46a8553e",
   "metadata": {},
   "outputs": [],
   "source": [
    "from elasticsearch import Elasticsearch\n",
    "import pandas as pd\n",
    "from tqdm import tqdm"
   ]
  },
  {
   "cell_type": "markdown",
   "id": "b537695e",
   "metadata": {},
   "source": [
    "#### Conectando e criando novo _index_ no Elasticsearch\n",
    "<hr>\n",
    "<br>\n",
    "    Os primeiros passos envolvem iniciar uma conexão com a api do Elasticsearch que está rodando localmente no PC. A partir do link do servidor, do certificado e as informações de autenticação, a conexão é iniciada.\n",
    "<br>\n",
    "<br>\n",
    "    Em seguida, a base é carregada em um dataframe do Pandas e então tratada para evitar erros na inserção dos dados.\n",
    "<br>\n",
    "<br>\n",
    "    É feito, então, o mapping (schema) do novo index que será criado. Nele, são passadas as configurações, que neste caso serão apenas as informações dos tipos aceitos em cada campo de uma instância. É então criado o index com os métodos do cliente Elasticsearch\n",
    "\n",
    "```python \n",
    "client.indices.create(index = ..., body = ...)\n",
    "```"
   ]
  },
  {
   "cell_type": "code",
   "execution_count": 2,
   "id": "8b191f83",
   "metadata": {
    "scrolled": true
   },
   "outputs": [
    {
     "name": "stdout",
     "output_type": "stream",
     "text": [
      "Conexão realizada!\n",
      "{'name': 'DESKTOP-I132PNT', 'cluster_name': 'elasticsearch', 'cluster_uuid': 'PUJYnly-ThWt6Zx1vDvPcw', 'version': {'number': '8.4.2', 'build_flavor': 'default', 'build_type': 'zip', 'build_hash': '89f8c6d8429db93b816403ee75e5c270b43a940a', 'build_date': '2022-09-14T16:26:04.382547801Z', 'build_snapshot': False, 'lucene_version': '9.3.0', 'minimum_wire_compatibility_version': '7.17.0', 'minimum_index_compatibility_version': '7.0.0'}, 'tagline': 'You Know, for Search'}\n"
     ]
    }
   ],
   "source": [
    "# CRIANDO UMA CONEXÃO COM O ELASTICSEARCH QUE ESTÁ RODANDO LOCALMENTE\n",
    "with open(\".secret\", \"r\") as f:\n",
    "    SECRET = f.read().strip()\n",
    "\n",
    "client = Elasticsearch(\"https://localhost:9200\",\n",
    "                       ca_certs = \"http_ca.crt\",\n",
    "                       basic_auth = (\"elastic\", str(SECRET)))\n",
    "\n",
    "if client.ping():\n",
    "    print(\"Conexão realizada!\")\n",
    "    print(client.info())\n",
    "else:\n",
    "    print(\"Erro de conexão...\")"
   ]
  },
  {
   "cell_type": "code",
   "execution_count": 8,
   "id": "ab87f02b",
   "metadata": {},
   "outputs": [
    {
     "name": "stdout",
     "output_type": "stream",
     "text": [
      "(20022, 7)\n",
      "Sample shape: (100, 7)\n"
     ]
    },
    {
     "data": {
      "text/html": [
       "<div>\n",
       "<style scoped>\n",
       "    .dataframe tbody tr th:only-of-type {\n",
       "        vertical-align: middle;\n",
       "    }\n",
       "\n",
       "    .dataframe tbody tr th {\n",
       "        vertical-align: top;\n",
       "    }\n",
       "\n",
       "    .dataframe thead th {\n",
       "        text-align: right;\n",
       "    }\n",
       "</style>\n",
       "<table border=\"1\" class=\"dataframe\">\n",
       "  <thead>\n",
       "    <tr style=\"text-align: right;\">\n",
       "      <th></th>\n",
       "      <th>metascore</th>\n",
       "      <th>platform</th>\n",
       "      <th>release_date</th>\n",
       "      <th>sort_no</th>\n",
       "      <th>summary</th>\n",
       "      <th>title</th>\n",
       "      <th>user_score</th>\n",
       "    </tr>\n",
       "  </thead>\n",
       "  <tbody>\n",
       "    <tr>\n",
       "      <th>8054</th>\n",
       "      <td>75</td>\n",
       "      <td>DS</td>\n",
       "      <td>06/05/2008</td>\n",
       "      <td>8055</td>\n",
       "      <td>Players take on the role of the characters fro...</td>\n",
       "      <td>Speed Racer</td>\n",
       "      <td>7.4</td>\n",
       "    </tr>\n",
       "    <tr>\n",
       "      <th>19455</th>\n",
       "      <td>43</td>\n",
       "      <td>DS</td>\n",
       "      <td>04/12/2007</td>\n",
       "      <td>19456</td>\n",
       "      <td>The Golden Compass follows the screenplay adap...</td>\n",
       "      <td>The Golden Compass</td>\n",
       "      <td>5.2</td>\n",
       "    </tr>\n",
       "    <tr>\n",
       "      <th>1331</th>\n",
       "      <td>86</td>\n",
       "      <td>Switch</td>\n",
       "      <td>14/11/2017</td>\n",
       "      <td>1332</td>\n",
       "      <td>Rocket League is a high-powered hybrid of arca...</td>\n",
       "      <td>Rocket League</td>\n",
       "      <td>7.8</td>\n",
       "    </tr>\n",
       "    <tr>\n",
       "      <th>427</th>\n",
       "      <td>92</td>\n",
       "      <td>PC</td>\n",
       "      <td>30/11/1998</td>\n",
       "      <td>253</td>\n",
       "      <td>Sneak through the shadows of 12 treacherous mi...</td>\n",
       "      <td>Thief: The Dark Project</td>\n",
       "      <td>8.9</td>\n",
       "    </tr>\n",
       "    <tr>\n",
       "      <th>2612</th>\n",
       "      <td>83</td>\n",
       "      <td>Xbox One</td>\n",
       "      <td>15/05/2018</td>\n",
       "      <td>2613</td>\n",
       "      <td>Imagine a place where everything that is lost ...</td>\n",
       "      <td>Forgotton Anne</td>\n",
       "      <td>7.4</td>\n",
       "    </tr>\n",
       "  </tbody>\n",
       "</table>\n",
       "</div>"
      ],
      "text/plain": [
       "       metascore  platform release_date  sort_no  \\\n",
       "8054          75        DS   06/05/2008     8055   \n",
       "19455         43        DS   04/12/2007    19456   \n",
       "1331          86    Switch   14/11/2017     1332   \n",
       "427           92        PC   30/11/1998      253   \n",
       "2612          83  Xbox One   15/05/2018     2613   \n",
       "\n",
       "                                                 summary  \\\n",
       "8054   Players take on the role of the characters fro...   \n",
       "19455  The Golden Compass follows the screenplay adap...   \n",
       "1331   Rocket League is a high-powered hybrid of arca...   \n",
       "427    Sneak through the shadows of 12 treacherous mi...   \n",
       "2612   Imagine a place where everything that is lost ...   \n",
       "\n",
       "                         title user_score  \n",
       "8054               Speed Racer        7.4  \n",
       "19455       The Golden Compass        5.2  \n",
       "1331             Rocket League        7.8  \n",
       "427    Thief: The Dark Project        8.9  \n",
       "2612            Forgotton Anne        7.4  "
      ]
     },
     "execution_count": 8,
     "metadata": {},
     "output_type": "execute_result"
    }
   ],
   "source": [
    "# BASE DE DADOS QUE SERÁ COLOCADA NO INDEX DO ES\n",
    "dt = pd.read_csv(\"games.csv\").iloc[:, 1:]\n",
    "dt['release_date'] = pd.to_datetime(dt['release_date'])\n",
    "dt['release_date'] = dt['release_date'].dt.strftime('%d/%m/%Y')\n",
    "dt = dt.fillna(\" \")\n",
    "print(dt.shape)\n",
    "dt = dt.sample(100)\n",
    "print(f\"Sample shape: {dt.shape}\")\n",
    "dt.head()"
   ]
  },
  {
   "cell_type": "markdown",
   "id": "47cd4cd0",
   "metadata": {},
   "source": [
    "client.indices.delete(index = 'metacritic_games')"
   ]
  },
  {
   "cell_type": "code",
   "execution_count": 27,
   "id": "a1dbe7fa",
   "metadata": {},
   "outputs": [
    {
     "name": "stderr",
     "output_type": "stream",
     "text": [
      "C:\\Users\\thiag\\AppData\\Local\\Temp\\ipykernel_17092\\3893292221.py:18: DeprecationWarning: The 'body' parameter is deprecated and will be removed in a future version. Instead use individual parameters.\n",
      "  client.indices.create(index = 'metacritic_games', body = index_config)\n"
     ]
    },
    {
     "data": {
      "text/plain": [
       "ObjectApiResponse({'acknowledged': True, 'shards_acknowledged': True, 'index': 'metacritic_games'})"
      ]
     },
     "execution_count": 27,
     "metadata": {},
     "output_type": "execute_result"
    }
   ],
   "source": [
    "# CRIANDO UM NOVO INDEX\n",
    "\n",
    "# mapping (Schema) dos dados do novo index\n",
    "index_config = {\n",
    "    'mappings': {\n",
    "        'properties':{\n",
    "            'metascore' : { 'type' : 'long' },\n",
    "            'platform' : { 'type' : 'text' },\n",
    "            'release_date' : { 'type' : 'date' },\n",
    "            'sort_no' :  { 'type' : 'long' },\n",
    "            'summary' :  { 'type' : 'text' },\n",
    "            'title' :  { 'type' : 'text' },\n",
    "            'user_score': { 'type' : 'text' }\n",
    "        }\n",
    "    }\n",
    "}\n",
    "# criando o index\n",
    "client.indices.create(index = 'metacritic_games', body = index_config)"
   ]
  },
  {
   "cell_type": "markdown",
   "id": "afd3d4dd",
   "metadata": {},
   "source": [
    "#### Inserindo intâncias no novo _index_\n",
    "<hr>\n",
    "<br>\n",
    "<p style='text-align: justify'>\n",
    "    Para inserir as intâncias, é feito um loop pela DataFrame, onde cada linha é salva em uma variável e então com um método do client, é instanciado dentro do index criado. Neste caso, o id está sendo passado com um iterador <i>i</i>, apenas para exemplificação.\n",
    "</p>\n",
    "<br>\n",
    "\n",
    "```python\n",
    "client.index(index = ..., id = ..., document = ...)\n",
    "```"
   ]
  },
  {
   "cell_type": "code",
   "execution_count": 28,
   "id": "e0761f60",
   "metadata": {},
   "outputs": [
    {
     "name": "stderr",
     "output_type": "stream",
     "text": [
      "100%|████████████████████████████████████████████████████████████████████████████████| 100/100 [00:22<00:00,  4.35it/s]\n"
     ]
    }
   ],
   "source": [
    "# inserindo 100 instancias no novo index\n",
    "dt['release_date'] = pd.to_datetime(dt['release_date'], infer_datetime_format = True)\n",
    "\n",
    "def insert_in_index(index_name, dt):\n",
    "    i = 0;\n",
    "    with tqdm(total = 100) as pbar:\n",
    "        for index, row in dt.iterrows():\n",
    "            body = row.to_dict()\n",
    "            body['id'] = i\n",
    "            client.index(index = index_name, id = i, document = body)\n",
    "            i += 1\n",
    "            pbar.update(1)\n",
    "        \n",
    "insert_in_index('metacritic_games', dt)"
   ]
  },
  {
   "cell_type": "code",
   "execution_count": 29,
   "id": "7159ba6d",
   "metadata": {},
   "outputs": [
    {
     "data": {
      "text/plain": [
       "ObjectApiResponse({'count': 100, '_shards': {'total': 1, 'successful': 1, 'skipped': 0, 'failed': 0}})"
      ]
     },
     "execution_count": 29,
     "metadata": {},
     "output_type": "execute_result"
    }
   ],
   "source": [
    "# FORAM ADICIONADOS COM SUCESSO\n",
    "client.count(index = 'metacritic_games')"
   ]
  },
  {
   "cell_type": "markdown",
   "id": "1882ddb1",
   "metadata": {},
   "source": [
    "#### Realizando consultas simples e atualizando dados com Elasticsearch\n",
    "<hr>\n",
    "<br>\n",
    "<p style = 'text-align: justify'>\n",
    "Para realizar uma consulta simples apenas pelo id do dado, basta usar o comando abaixo e então pegar o dicionário com as informações na key '_source'.\n",
    "</p>\n",
    "\n",
    "```python\n",
    "client.get(index = ..., id = ...)\n",
    "```\n",
    "\n",
    "<p style = 'text-align: justify'>\n",
    "Para realizar uma atualização de dados, basta usar o método 'update' do client, passando o id da instancia e no campo body/doc, um dicionario com apenas o campo que necessita ser atualizado.\n",
    "</p>\n",
    "\n",
    "```python\n",
    "update = {'platform' : 'Playstation 5'}\n",
    "\n",
    "client.update(index = index, id = id, doc = update)\n",
    "```\n"
   ]
  },
  {
   "cell_type": "code",
   "execution_count": 38,
   "id": "2d080981",
   "metadata": {},
   "outputs": [
    {
     "data": {
      "text/plain": [
       "{'metascore': 58,\n",
       " 'platform': 'Wii',\n",
       " 'release_date': '2010-06-21T00:00:00',\n",
       " 'sort_no': 17041,\n",
       " 'summary': \"[WiiWare]   A crumbling mansion is home to a most peculiar picture book. Gather your courage and open the door to this odd, unsettling and slightly scary tale. Solve innovative puzzles by using the Wii Remote controller to throw animated paper bears into the picture book's unusual pages. Grab all the red candies found inside, carefully place your bears and cleverly manipulate the unique environments. Delve into the unfolding drama of Pina, the mysterious young girl residing in the mansion. Thirty exciting and challenging stages await you.\",\n",
       " 'title': 'The Tales of Bearsworth Manor: Puzzling Pages',\n",
       " 'user_score': 'tbd',\n",
       " 'id': 33}"
      ]
     },
     "execution_count": 38,
     "metadata": {},
     "output_type": "execute_result"
    }
   ],
   "source": [
    "# CONSULTANDO INSTANCIAS PELO ID\n",
    "client.get(index = 'metacritic_games', id = 33)['_source']"
   ]
  },
  {
   "cell_type": "code",
   "execution_count": 40,
   "id": "d9750c01",
   "metadata": {},
   "outputs": [
    {
     "data": {
      "text/plain": [
       "{'metascore': 77,\n",
       " 'platform': 'Xbox Series X',\n",
       " 'release_date': '2022-04-02T00:00:00',\n",
       " 'sort_no': 7049,\n",
       " 'summary': \"THE FATE OF THE CITY IS IN YOUR HANDS It's been 15 years since humanity lost to the virus. The last great human settlement exists within an unforgiving, infected world, plunged into a modern dark age. During the day, bandits, factions and starving survivors roam the streets scavenging for scraps - or someone to take them from, by violence if necessary. At night the infected roam free, evacuating their dark hideouts to prey on the living. You are Aiden Caldwell, an infected survivor. Your exceptional agility and brutal combat skills make you a powerful ally and a valuable commodity in this dangerous world. You can achieve things no one else can. Enter places no one else dares. With your unique abilities you have the power to be an agent of change within this decaying metropolis.\\n\\nYOUR CHOICES, YOUR WORLD\\nYou must make tough decisions and hard sacrifices as you decide the fate of a society on the brink of collapse. The effect of the choices you make will have a huge impact on entire regions of the city, uncovering new land masses and areas to explore. Play the entire campaign in up to four-player co-op. Host your own games or join other players' and see how their choices have played out differently to your own.\\n\\nEXCEPTIONAL AGILITY AND BRUTAL COMBAT\\nOn your journey from humble beginnings to a person of great power, you have unprecedented freedom of movement across the city, seamlessly integrated with brutal first person combat.\\n\\nA MODERN DARK AGE\\nIn a desperate city, where resources and power are scarce, unstable, and trust in ruling bodies is all but eroded; humankind has reverted to a dark age. Civilization is gone but the relics are still there. This is a violent, primal & unforgiving world - and so are its inhabitants.\\n\\nTHE INFECTION HAS EVOLVED\\nThe infection has evolved and become more sensitive to UV light. Society exists in the relative safety of sunlight, while the infected hide in the shadows of buildings. At night the infected roam the streets freely searching for prey, presenting opportunities for you to explore areas of the city inaccessible by day.\",\n",
       " 'title': 'Dying Light 2 Stay Human',\n",
       " 'user_score': '4.9',\n",
       " 'id': 16}"
      ]
     },
     "execution_count": 40,
     "metadata": {},
     "output_type": "execute_result"
    }
   ],
   "source": [
    "client.get(index = 'metacritic_games', id = 16)['_source']"
   ]
  },
  {
   "cell_type": "code",
   "execution_count": 41,
   "id": "eb4bc42f",
   "metadata": {},
   "outputs": [
    {
     "name": "stderr",
     "output_type": "stream",
     "text": [
      "C:\\Users\\thiag\\AppData\\Local\\Temp\\ipykernel_17092\\2274960563.py:11: DeprecationWarning: The 'body' parameter is deprecated and will be removed in a future version. Instead use individual parameters.\n",
      "  client.update(index='metacritic_games', id = ids[i], body = doc_update)\n"
     ]
    }
   ],
   "source": [
    "# ATUALIZANDO 2 INSTANCIAS\n",
    "alteracoes = ['Playstation 5', 'Nintendo Switch']\n",
    "ids = [16, 33]\n",
    "\n",
    "for i in range(2):\n",
    "    doc_update = {\n",
    "        'doc': {\n",
    "            'platform': alteracoes[i]\n",
    "        }\n",
    "    }\n",
    "    client.update(index='metacritic_games', id = ids[i], body = doc_update)"
   ]
  },
  {
   "cell_type": "code",
   "execution_count": 42,
   "id": "2589b7ee",
   "metadata": {},
   "outputs": [
    {
     "name": "stdout",
     "output_type": "stream",
     "text": [
      "{'metascore': 77, 'platform': 'Playstation 5', 'release_date': '2022-04-02T00:00:00', 'sort_no': 7049, 'summary': \"THE FATE OF THE CITY IS IN YOUR HANDS It's been 15 years since humanity lost to the virus. The last great human settlement exists within an unforgiving, infected world, plunged into a modern dark age. During the day, bandits, factions and starving survivors roam the streets scavenging for scraps - or someone to take them from, by violence if necessary. At night the infected roam free, evacuating their dark hideouts to prey on the living. You are Aiden Caldwell, an infected survivor. Your exceptional agility and brutal combat skills make you a powerful ally and a valuable commodity in this dangerous world. You can achieve things no one else can. Enter places no one else dares. With your unique abilities you have the power to be an agent of change within this decaying metropolis.\\n\\nYOUR CHOICES, YOUR WORLD\\nYou must make tough decisions and hard sacrifices as you decide the fate of a society on the brink of collapse. The effect of the choices you make will have a huge impact on entire regions of the city, uncovering new land masses and areas to explore. Play the entire campaign in up to four-player co-op. Host your own games or join other players' and see how their choices have played out differently to your own.\\n\\nEXCEPTIONAL AGILITY AND BRUTAL COMBAT\\nOn your journey from humble beginnings to a person of great power, you have unprecedented freedom of movement across the city, seamlessly integrated with brutal first person combat.\\n\\nA MODERN DARK AGE\\nIn a desperate city, where resources and power are scarce, unstable, and trust in ruling bodies is all but eroded; humankind has reverted to a dark age. Civilization is gone but the relics are still there. This is a violent, primal & unforgiving world - and so are its inhabitants.\\n\\nTHE INFECTION HAS EVOLVED\\nThe infection has evolved and become more sensitive to UV light. Society exists in the relative safety of sunlight, while the infected hide in the shadows of buildings. At night the infected roam the streets freely searching for prey, presenting opportunities for you to explore areas of the city inaccessible by day.\", 'title': 'Dying Light 2 Stay Human', 'user_score': '4.9', 'id': 16}\n",
      "\n",
      "{'metascore': 58, 'platform': 'Nintendo Switch', 'release_date': '2010-06-21T00:00:00', 'sort_no': 17041, 'summary': \"[WiiWare]   A crumbling mansion is home to a most peculiar picture book. Gather your courage and open the door to this odd, unsettling and slightly scary tale. Solve innovative puzzles by using the Wii Remote controller to throw animated paper bears into the picture book's unusual pages. Grab all the red candies found inside, carefully place your bears and cleverly manipulate the unique environments. Delve into the unfolding drama of Pina, the mysterious young girl residing in the mansion. Thirty exciting and challenging stages await you.\", 'title': 'The Tales of Bearsworth Manor: Puzzling Pages', 'user_score': 'tbd', 'id': 33}\n"
     ]
    }
   ],
   "source": [
    "print(client.get(index = 'metacritic_games', id = 16)['_source'])\n",
    "print()\n",
    "print(client.get(index = 'metacritic_games', id = 33)['_source'])"
   ]
  },
  {
   "cell_type": "markdown",
   "id": "afe8a1d1",
   "metadata": {},
   "source": [
    "#### Realizando consultas complexas com Elasticsearch\n",
    "<hr>\n",
    "<br>\n",
    "<p style = 'text-align: justify'>\n",
    "Para realizar uma consulta mais complexas no Elasticsearch (seu principal diferencial), é necesário usar o método 'search', passando a query que será a fonte da busca na base de dados.\n",
    "</p>\n",
    "<br>\n",
    "\n",
    "```python\n",
    "client.search(index = ..., query = {})\n",
    "```\n",
    "<br>\n",
    "\n",
    "<p>\n",
    "Segue uma tabela com os tipos de query que foram utilizadas no index que foi criado:\n",
    "</p>\n",
    "<br>\n",
    "\n",
    "| Categoria | Tipo | Critério | Exemplo usado |\n",
    "| --------- | ---- | -------- | ------------- |\n",
    "| match | full-text | se a keyword estiver no texto | 'rpg' |\n",
    "| range | term | documentos com o campo em um intervalo específico | { 'gte' : 20, 'lte' : 50 } |\n",
    "| regexp | term | Através de expressões regulares | ma[a-z]* |"
   ]
  },
  {
   "cell_type": "code",
   "execution_count": 46,
   "id": "e4dd3646",
   "metadata": {},
   "outputs": [
    {
     "name": "stdout",
     "output_type": "stream",
     "text": [
      "{'metascore': 72, 'platform': 'Xbox One', 'release_date': '2016-03-06T00:00:00', 'sort_no': 10449, 'summary': 'Anima Gate of Memories is a third person action RPG in which the player will explore a vast world filled with dangers and wonders. In it you take control of two characters who are trap in a war in the shadows, a secret conflict that will engulf the world into chaos.', 'title': 'Anima: Gate of Memories', 'user_score': '7.5', 'id': 40}\n",
      "{'metascore': 79, 'platform': 'PC', 'release_date': '2021-10-27T00:00:00', 'sort_no': 5524, 'summary': 'The battle fire of steel ignites after 30 years\\n\\n\"Super Robot Wars 30, a title commemorating the 30th anniversary of the series, is coming to Nintendo Switch/PlayStation®4/STEAM®.\\n\\nSuper Robot Wars is a simulation RPG where robots of various animations come together to fight against a common enemy.\\nIn this original story, robots from various animations such as \" \"Mazinger Z: Infinity,\" \"Super Electromagnetic Robot Combattler V,\" \"Mobile Suit Zeta Gundam,\" and \"Code Geass: Lelouch of the Re;surrection\" transcend the boundaries of their works and assemble in one place.', 'title': 'Super Robot Wars 30', 'user_score': '7.3', 'id': 26}\n"
     ]
    }
   ],
   "source": [
    "# REALIZANDO CONSULTAS DIFERENTES\n",
    "# Pegando instancias que contem a palavra 'rpg' no campo de descrição\n",
    "resp = client.search(index=\"metacritic_games\", query={\"match\": {\"summary\" : \"rpg\"}})\n",
    "\n",
    "for hit in resp['hits']['hits']:\n",
    "    print(hit['_source'])"
   ]
  },
  {
   "cell_type": "code",
   "execution_count": 49,
   "id": "0cd5c144",
   "metadata": {},
   "outputs": [
    {
     "name": "stdout",
     "output_type": "stream",
     "text": [
      "{'metascore': 50, 'platform': 'Game Boy Advance', 'release_date': '2003-11-18T00:00:00', 'sort_no': 18666, 'summary': \"You are the ultimate weapon in Terminator 3: Rise of the Machines.  Ten years after John Connor helped save mankind from annihilation, the inevitable has occurred: The mechanized Tech-Com forces have risen, and war between man and machine has begun.  As the Terminator, you must use hand-to-hand combat or your massive weaponry to protect Connor, the would-be hero of the future.  Rise of the Machines immerses you in the Terminator 3 world, weaving in and out of the movie's storyline.\", 'title': 'Terminator 3: Rise of the Machines', 'user_score': 'tbd', 'id': 57}\n",
      "\n",
      "{'metascore': 45, 'platform': 'PlayStation 2', 'release_date': '2005-01-11T00:00:00', 'sort_no': 19244, 'summary': 'In Without Warning, a radical terrorist group has targeted and seized the Peterson-Daniels Chemical Facility, a vulnerable location that jeopardizes millions of people from the devastating ecological hazard it imposes if destroyed. Pleas are useless and any direct military assault would be too great a risk. As terrified hostages fearfor their lives, their only hope lies with a covert operations team, whose goal is to infiltrate the plant and eliminate the merciless enemy. The harrowing events unfold over a 12 hour period, featuring a unique gameplay dynamic which enables the six central characters to experience events across the same timeline but from their own distinct viewpoints. The player controls each character individually, with the focus automatically shifting to a new character at key moments which are unfolded throughcut scenes. By switching between the characters, their individual tales are woven together to create an overall picture of the events that happened during the crisis. The player will also retrospectively view events through the eyes of another character and is therefore not only a participant in the events, but a spectator as well. Furthermore, actions performed as one character affect the progress of others and players must successfully utilize the strengths of each in order to advance. [Capcom]', 'title': 'Without Warning', 'user_score': '6.5', 'id': 20}\n",
      "\n",
      "{'metascore': 43, 'platform': 'DS', 'release_date': '2007-04-12T00:00:00', 'sort_no': 19456, 'summary': \"The Golden Compass follows the screenplay adaptation of the first book in the acclaimed trilogy, capturing the fantasy adventure set in a parallel world where giant armored bears rule a kingdom, beautiful witches fly through the frozen skies, and human beings' deepest essence is manifest as talking animals that remain their faithful companion for life – their daemon. Players can assume the role of Lyra, a young girl, along with her daemon Pantalaimon (Pan), as she journeys through the frozen wastes of the North to rescue a friend kidnapped by a mysterious organization known as The Gobblers and winds up on an epic quest to save not only her world, but ours as well. Gamers can also take on the character of Iorek Byrnison, a great armoured polar bear who joins the quest. As Lyra, players use their daemon and collaborate with in-game characters, collecting special items in order to explore, evade, and deceive their way through confrontations with the Gobblers, the Magisterium, and the horribly dangerous spy fly to find her friend. They can also do battle as Iorek with special attacks and a riding mechanic as he protects Lyra during the journey. Gamers can unlock secrets and mini-games using a mysterious, truth-telling golden compass device called an alethiometer. Players can explore 13 vast locations, including all-new breath-taking environments not seen in the film, on this massive journey of collaboration, exploration and the eternal struggle between good and evil. [Sega]\", 'title': 'The Golden Compass', 'user_score': '5.2', 'id': 1}\n",
      "\n",
      "{'metascore': 32, 'platform': 'PSP', 'release_date': '2006-02-11T00:00:00', 'sort_no': 19913, 'summary': \"Dave Mirra is to BMX what Edison was to electricity. What the Wright Brothers were to flight. Like them, he rewrote the rules of what's possible. On the ground or above it, the Miracle Boy has redefined the boundaries of the sport and then promptly surpassed them. Now, the legend of the winningnest X Games competitor of all time is on the PSP system, letting you defy gravity wherever you go. With ad hoc wireless play for 1-4 players, you can challenge your friends to racing and freestyle competition and see who's got what it takes to ride with the greatest. 17 levels across 9 different environments. Customizable player characters, with tricked out clothes and gear. 10 Bikes to choose from and customize as you win. [Crave Entertainment]\", 'title': 'Dave Mirra BMX Challenge', 'user_score': '4.5', 'id': 42}\n",
      "\n",
      "{'metascore': 44, 'platform': 'PlayStation 2', 'release_date': '2001-03-10T00:00:00', 'sort_no': 19339, 'summary': 'Battle Imhotep and his legions of mummies! Avoid torrents of water and death-defying traps! Go on a wild blimp ride and fight atop a double-decker bus! But can you survive long enough to face The Scorpion King? [Universal]', 'title': 'The Mummy Returns', 'user_score': '6.6', 'id': 32}\n",
      "\n",
      "{'metascore': 43, 'platform': 'PlayStation 4', 'release_date': '2013-11-19T00:00:00', 'sort_no': 19484, 'summary': 'BounceTek -- Revolutionary physics-based dribbling allows for complete, organic control and authentic responsiveness. Utilize a full suite of dribble moves to unleash ankle-breaking crossovers, hesitations and more. CourtQ Delivers Real Time NBA -- Leveraging live synergy Sports Technology data, NBA LIVE 14 is driven by over 70 player ratings, tendencies, and team stats updated every NBA game, ensuring that your game is always in-sync with the real NBA. With fresh content and challenges updated on a daily basis, NBA LIVE 14 delivers a new experience each and every time you pick up the controller, delivering the pulse of the NBA 24/7/365.', 'title': 'NBA Live 14', 'user_score': '2.6', 'id': 72}\n",
      "\n"
     ]
    }
   ],
   "source": [
    "# Pegando instancias com um metascore no intervalo [30, 50]\n",
    "resp2 = client.search(index=\"metacritic_games\", query={\"range\": {\"metascore\" :{'gte' : 30, 'lte' : 50}}})\n",
    "\n",
    "for hit in resp2['hits']['hits']:\n",
    "    print(hit['_source'])\n",
    "    print()"
   ]
  },
  {
   "cell_type": "code",
   "execution_count": 51,
   "id": "a0a0d43a",
   "metadata": {},
   "outputs": [
    {
     "name": "stdout",
     "output_type": "stream",
     "text": [
      "{'metascore': 73, 'platform': '3DS', 'release_date': '2016-02-12T00:00:00', 'sort_no': 9295, 'summary': \"Get ready to play a near-infinite number of side-scrolling 2D Mario courses anytime, anywhere. Earn in-game medals in 100 built-in courses and access recommended courses from the Super Mario Maker game on the Wii U console. Plus, design courses and share them with other players via the StreetPass feature and local wireless. Want your cannons to shoot coins? Go for it. In this game, you call the shots, and simple touch-screen controls and interactive tutorials make designing courses a snap. Learn design tips and tricks from Mary O. and Yamamura, then share your masterpieces via the StreetPass feature and local wireless. Collaborating has never been easier now that you can share incomplete courses with other players. Finish off a course together and a special icon will commemorate the collaboration. That's one of many reasons that this is the must-play portable Mario™ game for inventive groups of friends and anyone yearning for never-ending Super Mario magic. [Nintendo]\", 'title': 'Super Mario Maker for Nintendo 3DS', 'user_score': '6.5', 'id': 13}\n",
      "\n",
      "{'metascore': 50, 'platform': 'Game Boy Advance', 'release_date': '2003-11-18T00:00:00', 'sort_no': 18666, 'summary': \"You are the ultimate weapon in Terminator 3: Rise of the Machines.  Ten years after John Connor helped save mankind from annihilation, the inevitable has occurred: The mechanized Tech-Com forces have risen, and war between man and machine has begun.  As the Terminator, you must use hand-to-hand combat or your massive weaponry to protect Connor, the would-be hero of the future.  Rise of the Machines immerses you in the Terminator 3 world, weaving in and out of the movie's storyline.\", 'title': 'Terminator 3: Rise of the Machines', 'user_score': 'tbd', 'id': 57}\n",
      "\n",
      "{'metascore': 69, 'platform': 'Wii', 'release_date': '2007-03-20T00:00:00', 'sort_no': 12110, 'summary': 'Using the Wii Remote, players navigate their balls through a series of complex 3D mazes. No complicated button combinations are required - just the tilt of the Wii Remote to tip and tilt the game environment in all directions. Each ball in the game has its own level of response, speed, slide and bounce, so the player must choose his balls carefully in order to successfully complete Kororinpa. As more mazes are completed, additional balls are be made available to choose from. These include balls such as ladybug, cat, penguin, watermelon and pig. Players can also go head-to-head with another player, splitting the screen horizontally or vertically, where the winner is the player to collect all the red crystals and reach the goal first. The game includes more than 50 mazes and five different environments, each with its own unique music, obstacles and visual style to enjoy.', 'title': 'Kororinpa: Marble Mania', 'user_score': '8.4', 'id': 43}\n",
      "\n",
      "{'metascore': 58, 'platform': 'Nintendo Switch', 'release_date': '2010-06-21T00:00:00', 'sort_no': 17041, 'summary': \"[WiiWare]   A crumbling mansion is home to a most peculiar picture book. Gather your courage and open the door to this odd, unsettling and slightly scary tale. Solve innovative puzzles by using the Wii Remote controller to throw animated paper bears into the picture book's unusual pages. Grab all the red candies found inside, carefully place your bears and cleverly manipulate the unique environments. Delve into the unfolding drama of Pina, the mysterious young girl residing in the mansion. Thirty exciting and challenging stages await you.\", 'title': 'The Tales of Bearsworth Manor: Puzzling Pages', 'user_score': 'tbd', 'id': 33}\n",
      "\n"
     ]
    }
   ],
   "source": [
    "# Pegando instancias usando expressões regulares no campo titulo\n",
    "resp2 = client.search(index=\"metacritic_games\", query={\"regexp\": {\"title\" : 'ma[a-z]*'}})\n",
    "\n",
    "for hit in resp2['hits']['hits']:\n",
    "    print(hit['_source'])\n",
    "    print()"
   ]
  },
  {
   "cell_type": "markdown",
   "id": "63a40adc",
   "metadata": {},
   "source": [
    "#### Deletando instâncias pelo id e por query no Elasticsearch\n",
    "<hr>\n",
    "<br>\n",
    "<p style = 'text-align: justify'>\n",
    "Para deletar uma instância por id, basta chamar o método 'delete' e então passar as informações de index e id. Enquanto para deletar passando uma query, basta realizar a mesma operação de busca, porém com o método 'delete_by_query'\n",
    "</p>\n",
    "<br>\n",
    "\n",
    "```python\n",
    "client.delete(index = ..., id = ...)\n",
    "\n",
    "client.delete_by_query(index = ..., query = {})\n",
    "```"
   ]
  },
  {
   "cell_type": "code",
   "execution_count": 52,
   "id": "750dab18",
   "metadata": {},
   "outputs": [
    {
     "data": {
      "text/plain": [
       "{'metascore': 80,\n",
       " 'platform': 'PC',\n",
       " 'release_date': '2017-04-18T00:00:00',\n",
       " 'sort_no': 4438,\n",
       " 'summary': 'Live the life of space captain Flinthook! Armed with your mighty hookshot, your uncanny slow-motion powers and your trusty blasma pistol, plunder and fight your way through an infinite variety of randomly-assembled spaceships for treasure, loot and fame!',\n",
       " 'title': 'Flinthook',\n",
       " 'user_score': '7.3',\n",
       " 'id': 10}"
      ]
     },
     "execution_count": 52,
     "metadata": {},
     "output_type": "execute_result"
    }
   ],
   "source": [
    "client.get(index = 'metacritic_games', id = 10)['_source']"
   ]
  },
  {
   "cell_type": "code",
   "execution_count": 53,
   "id": "82b99e96",
   "metadata": {},
   "outputs": [
    {
     "data": {
      "text/plain": [
       "ObjectApiResponse({'_index': 'metacritic_games', '_id': '10', '_version': 2, 'result': 'deleted', '_shards': {'total': 2, 'successful': 1, 'failed': 0}, '_seq_no': 102, '_primary_term': 1})"
      ]
     },
     "execution_count": 53,
     "metadata": {},
     "output_type": "execute_result"
    }
   ],
   "source": [
    "# REMOVENDO UMA INSTANCIA\n",
    "client.delete(index = 'metacritic_games', id = 10)"
   ]
  },
  {
   "cell_type": "code",
   "execution_count": 55,
   "id": "0caf93e6",
   "metadata": {
    "collapsed": true
   },
   "outputs": [
    {
     "ename": "NotFoundError",
     "evalue": "NotFoundError(404, \"{'_index': 'metacritic_games', '_id': '10', 'found': False}\")",
     "output_type": "error",
     "traceback": [
      "\u001b[1;31m---------------------------------------------------------------------------\u001b[0m",
      "\u001b[1;31mNotFoundError\u001b[0m                             Traceback (most recent call last)",
      "Input \u001b[1;32mIn [55]\u001b[0m, in \u001b[0;36m<cell line: 1>\u001b[1;34m()\u001b[0m\n\u001b[1;32m----> 1\u001b[0m \u001b[43mclient\u001b[49m\u001b[38;5;241;43m.\u001b[39;49m\u001b[43mget\u001b[49m\u001b[43m(\u001b[49m\u001b[43mindex\u001b[49m\u001b[43m \u001b[49m\u001b[38;5;241;43m=\u001b[39;49m\u001b[43m \u001b[49m\u001b[38;5;124;43m'\u001b[39;49m\u001b[38;5;124;43mmetacritic_games\u001b[39;49m\u001b[38;5;124;43m'\u001b[39;49m\u001b[43m,\u001b[49m\u001b[43m \u001b[49m\u001b[38;5;28;43mid\u001b[39;49m\u001b[43m \u001b[49m\u001b[38;5;241;43m=\u001b[39;49m\u001b[43m \u001b[49m\u001b[38;5;241;43m10\u001b[39;49m\u001b[43m)\u001b[49m\n",
      "File \u001b[1;32m~\\anaconda3\\lib\\site-packages\\elasticsearch\\_sync\\client\\utils.py:414\u001b[0m, in \u001b[0;36m_rewrite_parameters.<locals>.wrapper.<locals>.wrapped\u001b[1;34m(*args, **kwargs)\u001b[0m\n\u001b[0;32m    411\u001b[0m         \u001b[38;5;28;01mexcept\u001b[39;00m \u001b[38;5;167;01mKeyError\u001b[39;00m:\n\u001b[0;32m    412\u001b[0m             \u001b[38;5;28;01mpass\u001b[39;00m\n\u001b[1;32m--> 414\u001b[0m \u001b[38;5;28;01mreturn\u001b[39;00m api(\u001b[38;5;241m*\u001b[39margs, \u001b[38;5;241m*\u001b[39m\u001b[38;5;241m*\u001b[39mkwargs)\n",
      "File \u001b[1;32m~\\anaconda3\\lib\\site-packages\\elasticsearch\\_sync\\client\\__init__.py:1945\u001b[0m, in \u001b[0;36mElasticsearch.get\u001b[1;34m(self, index, id, error_trace, filter_path, human, preference, pretty, realtime, refresh, routing, source, source_excludes, source_includes, stored_fields, version, version_type)\u001b[0m\n\u001b[0;32m   1943\u001b[0m     __query[\u001b[38;5;124m\"\u001b[39m\u001b[38;5;124mversion_type\u001b[39m\u001b[38;5;124m\"\u001b[39m] \u001b[38;5;241m=\u001b[39m version_type\n\u001b[0;32m   1944\u001b[0m __headers \u001b[38;5;241m=\u001b[39m {\u001b[38;5;124m\"\u001b[39m\u001b[38;5;124maccept\u001b[39m\u001b[38;5;124m\"\u001b[39m: \u001b[38;5;124m\"\u001b[39m\u001b[38;5;124mapplication/json\u001b[39m\u001b[38;5;124m\"\u001b[39m}\n\u001b[1;32m-> 1945\u001b[0m \u001b[38;5;28;01mreturn\u001b[39;00m \u001b[38;5;28;43mself\u001b[39;49m\u001b[38;5;241;43m.\u001b[39;49m\u001b[43mperform_request\u001b[49m\u001b[43m(\u001b[49m\u001b[43m  \u001b[49m\u001b[38;5;66;43;03m# type: ignore[return-value]\u001b[39;49;00m\n\u001b[0;32m   1946\u001b[0m \u001b[43m    \u001b[49m\u001b[38;5;124;43m\"\u001b[39;49m\u001b[38;5;124;43mGET\u001b[39;49m\u001b[38;5;124;43m\"\u001b[39;49m\u001b[43m,\u001b[49m\u001b[43m \u001b[49m\u001b[43m__path\u001b[49m\u001b[43m,\u001b[49m\u001b[43m \u001b[49m\u001b[43mparams\u001b[49m\u001b[38;5;241;43m=\u001b[39;49m\u001b[43m__query\u001b[49m\u001b[43m,\u001b[49m\u001b[43m \u001b[49m\u001b[43mheaders\u001b[49m\u001b[38;5;241;43m=\u001b[39;49m\u001b[43m__headers\u001b[49m\n\u001b[0;32m   1947\u001b[0m \u001b[43m\u001b[49m\u001b[43m)\u001b[49m\n",
      "File \u001b[1;32m~\\anaconda3\\lib\\site-packages\\elasticsearch\\_sync\\client\\_base.py:321\u001b[0m, in \u001b[0;36mBaseClient.perform_request\u001b[1;34m(self, method, path, params, headers, body)\u001b[0m\n\u001b[0;32m    318\u001b[0m         \u001b[38;5;28;01mexcept\u001b[39;00m (\u001b[38;5;167;01mValueError\u001b[39;00m, \u001b[38;5;167;01mKeyError\u001b[39;00m, \u001b[38;5;167;01mTypeError\u001b[39;00m):\n\u001b[0;32m    319\u001b[0m             \u001b[38;5;28;01mpass\u001b[39;00m\n\u001b[1;32m--> 321\u001b[0m     \u001b[38;5;28;01mraise\u001b[39;00m HTTP_EXCEPTIONS\u001b[38;5;241m.\u001b[39mget(meta\u001b[38;5;241m.\u001b[39mstatus, ApiError)(\n\u001b[0;32m    322\u001b[0m         message\u001b[38;5;241m=\u001b[39mmessage, meta\u001b[38;5;241m=\u001b[39mmeta, body\u001b[38;5;241m=\u001b[39mresp_body\n\u001b[0;32m    323\u001b[0m     )\n\u001b[0;32m    325\u001b[0m \u001b[38;5;66;03m# 'X-Elastic-Product: Elasticsearch' should be on every 2XX response.\u001b[39;00m\n\u001b[0;32m    326\u001b[0m \u001b[38;5;28;01mif\u001b[39;00m \u001b[38;5;129;01mnot\u001b[39;00m \u001b[38;5;28mself\u001b[39m\u001b[38;5;241m.\u001b[39m_verified_elasticsearch:\n\u001b[0;32m    327\u001b[0m     \u001b[38;5;66;03m# If the header is set we mark the server as verified.\u001b[39;00m\n",
      "\u001b[1;31mNotFoundError\u001b[0m: NotFoundError(404, \"{'_index': 'metacritic_games', '_id': '10', 'found': False}\")"
     ]
    }
   ],
   "source": [
    "client.get(index = 'metacritic_games', id = 10)"
   ]
  },
  {
   "cell_type": "code",
   "execution_count": 56,
   "id": "21a871e6",
   "metadata": {},
   "outputs": [
    {
     "data": {
      "text/plain": [
       "ObjectApiResponse({'took': 1538, 'timed_out': False, 'total': 2, 'deleted': 2, 'batches': 1, 'version_conflicts': 0, 'noops': 0, 'retries': {'bulk': 0, 'search': 0}, 'throttled_millis': 0, 'requests_per_second': -1.0, 'throttled_until_millis': 0, 'failures': []})"
      ]
     },
     "execution_count": 56,
     "metadata": {},
     "output_type": "execute_result"
    }
   ],
   "source": [
    "# REMOVENDO POR QUERY\n",
    "client.delete_by_query(index = 'metacritic_games', query={\"match\": {\"summary\" : \"rpg\"}})"
   ]
  },
  {
   "cell_type": "code",
   "execution_count": 65,
   "id": "5263cfaa",
   "metadata": {},
   "outputs": [
    {
     "name": "stdout",
     "output_type": "stream",
     "text": [
      "{'took': 2, 'timed_out': False, '_shards': {'total': 1, 'successful': 1, 'skipped': 0, 'failed': 0}, 'hits': {'total': {'value': 0, 'relation': 'eq'}, 'max_score': None, 'hits': []}}\n"
     ]
    }
   ],
   "source": [
    "# REMOVENDO POR QUERY\n",
    "resp3 = client.search(index = 'metacritic_games', query={\"match\": {\"summary\" : \"rpg\"}})\n",
    "print(resp3)\n",
    "for hit in resp3['hits']['hits']:\n",
    "    print(hit['_source'])\n",
    "    print()"
   ]
  }
 ],
 "metadata": {
  "kernelspec": {
   "display_name": "Python 3 (ipykernel)",
   "language": "python",
   "name": "python3"
  },
  "language_info": {
   "codemirror_mode": {
    "name": "ipython",
    "version": 3
   },
   "file_extension": ".py",
   "mimetype": "text/x-python",
   "name": "python",
   "nbconvert_exporter": "python",
   "pygments_lexer": "ipython3",
   "version": "3.9.12"
  }
 },
 "nbformat": 4,
 "nbformat_minor": 5
}
